{
  "nbformat": 4,
  "nbformat_minor": 0,
  "metadata": {
    "colab": {
      "name": "Untitled1.ipynb",
      "provenance": [],
      "authorship_tag": "ABX9TyNaKwmnnI965rlmTDJZ3I7J",
      "include_colab_link": true
    },
    "kernelspec": {
      "name": "python3",
      "display_name": "Python 3"
    },
    "language_info": {
      "name": "python"
    }
  },
  "cells": [
    {
      "cell_type": "markdown",
      "metadata": {
        "id": "view-in-github",
        "colab_type": "text"
      },
      "source": [
        "<a href=\"https://colab.research.google.com/github/oilnutttt/BasicProg_DataViz65/blob/main/Untitled1.ipynb\" target=\"_parent\"><img src=\"https://colab.research.google.com/assets/colab-badge.svg\" alt=\"Open In Colab\"/></a>"
      ]
    },
    {
      "cell_type": "code",
      "execution_count": null,
      "metadata": {
        "id": "1wgzQDzaFPGO"
      },
      "outputs": [],
      "source": [
        ""
      ]
    },
    {
      "cell_type": "markdown",
      "source": [
        "ณัชกมล อัมฤตานนท์ (6712)"
      ],
      "metadata": {
        "id": "r5eqoCkIFhj1"
      }
    },
    {
      "cell_type": "markdown",
      "source": [
        "#Markdown"
      ],
      "metadata": {
        "id": "CvCXjIvOGDyt"
      }
    },
    {
      "cell_type": "markdown",
      "source": [
        "https://github.com/adam-p/markdown-here/wiki/Markdown-Cheatsheet"
      ],
      "metadata": {
        "id": "VE8m3FRhIzQF"
      }
    },
    {
      "cell_type": "markdown",
      "source": [
        "##heading2"
      ],
      "metadata": {
        "id": "CWPk3QhPF-aC"
      }
    },
    {
      "cell_type": "code",
      "source": [
        "print('Nutchakamon')\n",
        "Nutchakamon"
      ],
      "metadata": {
        "id": "Gs06yydfHx0i"
      },
      "execution_count": null,
      "outputs": []
    },
    {
      "cell_type": "code",
      "source": [
        ""
      ],
      "metadata": {
        "id": "fd20oGZaIiiG"
      },
      "execution_count": null,
      "outputs": []
    }
  ]
}